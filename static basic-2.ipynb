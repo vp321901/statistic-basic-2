{
 "cells": [
  {
   "cell_type": "code",
   "execution_count": 1,
   "id": "e3f7bfa1-0ff2-4828-9196-4ea8c79272c7",
   "metadata": {},
   "outputs": [],
   "source": [
    "    #ANSWER:1"
   ]
  },
  {
   "cell_type": "code",
   "execution_count": 2,
   "id": "062e95d7-f3f3-4d0f-a3ba-3c3c627e5a07",
   "metadata": {},
   "outputs": [
    {
     "data": {
      "text/plain": [
       "'\\nThe three common measures of central tendency are:\\n1.MEAN\\n2.MEDIAN\\n3.MODE'"
      ]
     },
     "execution_count": 2,
     "metadata": {},
     "output_type": "execute_result"
    }
   ],
   "source": [
    "\"\"\"\n",
    "The three common measures of central tendency are:\n",
    "1.MEAN\n",
    "2.MEDIAN\n",
    "3.MODE\"\"\""
   ]
  },
  {
   "cell_type": "code",
   "execution_count": 3,
   "id": "62791afc-f7c3-48b4-aaf9-4bc0233d6100",
   "metadata": {},
   "outputs": [],
   "source": [
    "     #ANSWER:-2"
   ]
  },
  {
   "cell_type": "code",
   "execution_count": 5,
   "id": "48d73517-54fb-442e-9fd6-7b1485724173",
   "metadata": {},
   "outputs": [
    {
     "data": {
      "text/plain": [
       "'\\nDifferences Between Mean, Median, and Mode\\n1.Mean\\n\\n-Definition: The average of all values.\\n-Calculation: Sum of all values divided by the number of values.\\n-Use: Provides a measure of central tendency when data is symmetrically distributed. Sensitive to extreme values (outliers).\\n\\n2.Median\\n\\n-Definition: The middle value when data is ordered.\\n-Calculation: Middle value for odd-numbered datasets; average of two middle values for even-numbered datasets.\\n-Use: Useful for skewed distributions or datasets with outliers, as it is less affected by extreme values.\\n\\n3.Mode\\n\\n-Definition: The most frequently occurring value(s).\\n-Calculation: Identifies the value(s) that appear most often.\\n-Use: Best for categorical data or datasets where the most common value is of interest. Can have multiple modes or none.'"
      ]
     },
     "execution_count": 5,
     "metadata": {},
     "output_type": "execute_result"
    }
   ],
   "source": [
    "\"\"\"\n",
    "Differences Between Mean, Median, and Mode\n",
    "1.Mean\n",
    "\n",
    "-Definition: The average of all values.\n",
    "-Calculation: Sum of all values divided by the number of values.\n",
    "-Use: Provides a measure of central tendency when data is symmetrically distributed. Sensitive to extreme values (outliers).\n",
    "\n",
    "2.Median\n",
    "\n",
    "-Definition: The middle value when data is ordered.\n",
    "-Calculation: Middle value for odd-numbered datasets; average of two middle values for even-numbered datasets.\n",
    "-Use: Useful for skewed distributions or datasets with outliers, as it is less affected by extreme values.\n",
    "\n",
    "3.Mode\n",
    "\n",
    "-Definition: The most frequently occurring value(s).\n",
    "-Calculation: Identifies the value(s) that appear most often.\n",
    "-Use: Best for categorical data or datasets where the most common value is of interest. Can have multiple modes or none.\"\"\""
   ]
  },
  {
   "cell_type": "code",
   "execution_count": 6,
   "id": "42ba2fc6-9b3c-41b4-93c2-caec13c73db9",
   "metadata": {},
   "outputs": [],
   "source": [
    "       #ANSWER:-3"
   ]
  },
  {
   "cell_type": "code",
   "execution_count": 7,
   "id": "27000428-66c4-4698-8d9e-186ccf966fa0",
   "metadata": {},
   "outputs": [
    {
     "name": "stdout",
     "output_type": "stream",
     "text": [
      "Mean: 177.02\n",
      "Median: 177.00\n",
      "Mode: 177.0, Count: 3\n"
     ]
    },
    {
     "name": "stderr",
     "output_type": "stream",
     "text": [
      "/tmp/ipykernel_1355/1355331295.py:14: FutureWarning: Unlike other reduction functions (e.g. `skew`, `kurtosis`), the default behavior of `mode` typically preserves the axis it acts along. In SciPy 1.11.0, this behavior will change: the default value of `keepdims` will become False, the `axis` over which the statistic is taken will be eliminated, and the value None will no longer be accepted. Set `keepdims` to True or False to avoid this warning.\n",
      "  mode_height, count = stats.mode(heights)\n"
     ]
    }
   ],
   "source": [
    "import numpy as np\n",
    "from scipy import stats\n",
    "\n",
    "# Given height data\n",
    "heights = [178, 177, 176, 177, 178.2, 178, 175, 179, 180, 175, 178.9, 176.2, 177, 172.5, 178, 176.5]\n",
    "\n",
    "# Calculate Mean\n",
    "mean_height = np.mean(heights)\n",
    "\n",
    "# Calculate Median\n",
    "median_height = np.median(heights)\n",
    "\n",
    "# Calculate Mode\n",
    "mode_height, count = stats.mode(heights)\n",
    "\n",
    "# Print results\n",
    "print(f\"Mean: {mean_height:.2f}\")\n",
    "print(f\"Median: {median_height:.2f}\")\n",
    "print(f\"Mode: {mode_height[0]}, Count: {count[0]}\")\n"
   ]
  },
  {
   "cell_type": "code",
   "execution_count": 8,
   "id": "6330e4ca-092c-4524-bfa8-d18ad470bf4d",
   "metadata": {},
   "outputs": [],
   "source": [
    "      ##ANSWER:-4"
   ]
  },
  {
   "cell_type": "code",
   "execution_count": 9,
   "id": "e04da330-cfa2-4926-85bc-cb0cf8b8c371",
   "metadata": {},
   "outputs": [
    {
     "data": {
      "text/plain": [
       "1.7885814036548633"
      ]
     },
     "execution_count": 9,
     "metadata": {},
     "output_type": "execute_result"
    }
   ],
   "source": [
    "data = [178, 177, 176, 177, 178.2, 178, 175, 179, 180, 175, 178.9, 176.2, 177, 172.5, 178, 176.5]\n",
    "\n",
    "import numpy as np\n",
    "np.std(data)"
   ]
  },
  {
   "cell_type": "code",
   "execution_count": 10,
   "id": "d57ab370-4149-427e-9c31-9ad1870a503c",
   "metadata": {},
   "outputs": [],
   "source": [
    "          #ANSWER:-5"
   ]
  },
  {
   "cell_type": "code",
   "execution_count": 11,
   "id": "24cbe7bc-f0f0-4ce4-808c-dc9e46c9c286",
   "metadata": {},
   "outputs": [
    {
     "name": "stdout",
     "output_type": "stream",
     "text": [
      "Range: 10\n",
      "Variance: 13.04\n",
      "Standard Deviation: 3.61\n"
     ]
    }
   ],
   "source": [
    "\"\"\"Measures of Dispersion:\n",
    "\n",
    "##Range\n",
    "\n",
    "--Definition: The difference between the maximum and minimum values.\n",
    "--Use: Indicates the extent of variability in the dataset but is sensitive to extreme values.\n",
    "\n",
    "##Variance\n",
    "\n",
    "--Definition: The average of the squared differences between each data point and the mean.\n",
    "--Use: Shows how much the data points deviate from the mean, but in squared units, making it less intuitive.\n",
    "\n",
    "##Standard Deviation\n",
    "\n",
    "--Definition: The square root of the variance.\n",
    "--Use: Provides a measure of spread in the same units as the data, making it more interpretable.\"\"\"\n",
    "\n",
    "\n",
    "\n",
    "\n",
    "############## EXAMPLE:-----------\n",
    "\n",
    "\n",
    "import numpy as np\n",
    "\n",
    "# Given dataset\n",
    "data = [5, 7, 8, 12, 15]\n",
    "\n",
    "# Calculate Range\n",
    "data_range = np.max(data) - np.min(data)\n",
    "\n",
    "# Calculate Variance\n",
    "variance = np.var(data, ddof=0)  # Use ddof=1 for sample variance\n",
    "\n",
    "# Calculate Standard Deviation\n",
    "std_deviation = np.sqrt(variance)  # or use np.std(data, ddof=0)\n",
    "\n",
    "# Print results\n",
    "print(f\"Range: {data_range}\")\n",
    "print(f\"Variance: {variance:.2f}\")\n",
    "print(f\"Standard Deviation: {std_deviation:.2f}\")\n",
    "\n",
    "\n"
   ]
  },
  {
   "cell_type": "code",
   "execution_count": 13,
   "id": "918b9a68-a0c5-4ce5-abf9-bfdbd4657730",
   "metadata": {},
   "outputs": [],
   "source": [
    "            #ANSWER:6"
   ]
  },
  {
   "cell_type": "code",
   "execution_count": 14,
   "id": "4a8c0c9a-681b-4558-862d-d5b92eee439b",
   "metadata": {},
   "outputs": [
    {
     "data": {
      "text/plain": [
       "'A Venn diagram is a visual tool used to represent the relationships between different sets. It consists of overlapping circles, where each circle represents a set. The overlapping areas show the common elements between the sets, while the non-overlapping parts display elements unique to each set.'"
      ]
     },
     "execution_count": 14,
     "metadata": {},
     "output_type": "execute_result"
    }
   ],
   "source": [
    "\"\"\"A Venn diagram is a visual tool used to represent the relationships between different sets. It consists of overlapping circles, where each circle represents a set. The overlapping areas show the common elements between the sets, while the non-overlapping parts display elements unique to each set.\"\"\""
   ]
  },
  {
   "cell_type": "code",
   "execution_count": 15,
   "id": "fc4386ea-2589-474d-af82-861730b209b6",
   "metadata": {},
   "outputs": [],
   "source": [
    "              ##ANSWER:-7"
   ]
  },
  {
   "cell_type": "code",
   "execution_count": 16,
   "id": "326757d9-1bd4-4b14-a140-cf8190f1daf2",
   "metadata": {},
   "outputs": [
    {
     "data": {
      "text/plain": [
       "'1.A Intersection B: {2, 6}\\n\\n    2.A Union B: {0, 2, 3, 4, 5, 6, 7, 8, 10}'"
      ]
     },
     "execution_count": 16,
     "metadata": {},
     "output_type": "execute_result"
    }
   ],
   "source": [
    "\"\"\"1.A Intersection B: {2, 6}\n",
    "\n",
    "    2.A Union B: {0, 2, 3, 4, 5, 6, 7, 8, 10}\"\"\""
   ]
  },
  {
   "cell_type": "code",
   "execution_count": 17,
   "id": "dc9a075d-bee8-407b-b916-7d009bdedcf5",
   "metadata": {},
   "outputs": [],
   "source": [
    "       ##ANSWER:-8"
   ]
  },
  {
   "cell_type": "code",
   "execution_count": 18,
   "id": "f10096f4-e3c9-4c4c-833b-1d4f1e2308d2",
   "metadata": {},
   "outputs": [
    {
     "data": {
      "text/plain": [
       "'Skewness in data refers to the asymmetry of the distribution of data values around the mean. It indicates whether the data is skewed towards one end or the other, rather than being symmetrically distributed around the mean.'"
      ]
     },
     "execution_count": 18,
     "metadata": {},
     "output_type": "execute_result"
    }
   ],
   "source": [
    "\"\"\"Skewness in data refers to the asymmetry of the distribution of data values around the mean. It indicates whether the data is skewed towards one end or the other, rather than being symmetrically distributed around the mean.\"\"\""
   ]
  },
  {
   "cell_type": "code",
   "execution_count": 19,
   "id": "8ed18099-a1fe-496d-b30c-52ac2eb5a262",
   "metadata": {},
   "outputs": [],
   "source": [
    "          ##ANWER:-9"
   ]
  },
  {
   "cell_type": "code",
   "execution_count": 20,
   "id": "65a05aa6-633c-4fa8-ba32-4714b4c4cb08",
   "metadata": {},
   "outputs": [],
   "source": [
    "#In a right-skewed distribution, the median will generally be less than the mean and positioned to its left."
   ]
  },
  {
   "cell_type": "code",
   "execution_count": 21,
   "id": "867f2b64-4de5-4585-9985-bc64ed73c26f",
   "metadata": {},
   "outputs": [],
   "source": [
    "       ##ANSWER:-10"
   ]
  },
  {
   "cell_type": "code",
   "execution_count": 24,
   "id": "e29a4fee-d21d-46e9-b9fc-f181e2565cbb",
   "metadata": {},
   "outputs": [
    {
     "data": {
      "text/plain": [
       "'\\n---------Covariance:\\n\\n--Definition: Measures how two variables change together. If one increases when the other does, the covariance is positive. If one decreases while the other increases, the covariance is negative.\\n--Use: Shows the direction of the relationship but not the strength or how strong the relationship is.\\n\\n---------Correlation:\\n\\n--Definition: Measures both the strength and direction of the relationship between two variables. It’s a standardized version of covariance and ranges from -1 to 1.\\n--Use: Shows how strongly and in what direction two variables are related. For example, a correlation of 0.8 indicates a strong positive relationship.\\n\\n---------Uses in stastical Analysis:\\n\\n--Covariance: Helps understand if two variables move together or in opposite directions.\\n--Correlation: Provides a clearer picture of how strongly two variables are related and in what direction, making it easier to interpret relationships.'"
      ]
     },
     "execution_count": 24,
     "metadata": {},
     "output_type": "execute_result"
    }
   ],
   "source": [
    "\"\"\"\n",
    "---------Covariance:\n",
    "\n",
    "--Definition: Measures how two variables change together. If one increases when the other does, the covariance is positive. If one decreases while the other increases, the covariance is negative.\n",
    "--Use: Shows the direction of the relationship but not the strength or how strong the relationship is.\n",
    "\n",
    "---------Correlation:\n",
    "\n",
    "--Definition: Measures both the strength and direction of the relationship between two variables. It’s a standardized version of covariance and ranges from -1 to 1.\n",
    "--Use: Shows how strongly and in what direction two variables are related. For example, a correlation of 0.8 indicates a strong positive relationship.\n",
    "\n",
    "---------Uses in stastical Analysis:\n",
    "\n",
    "--Covariance: Helps understand if two variables move together or in opposite directions.\n",
    "--Correlation: Provides a clearer picture of how strongly two variables are related and in what direction, making it easier to interpret relationships.\"\"\""
   ]
  },
  {
   "cell_type": "code",
   "execution_count": 25,
   "id": "ec82faed-364b-4478-9724-e2e97a4f226b",
   "metadata": {},
   "outputs": [],
   "source": [
    "        ###ANSWER:-11"
   ]
  },
  {
   "cell_type": "code",
   "execution_count": 26,
   "id": "ce83e7b1-8bf5-42e9-88fe-dc6cbc330cdd",
   "metadata": {},
   "outputs": [
    {
     "data": {
      "text/plain": [
       "'To find the simple mean of a dataset, you add up all the values and then divide that sum by the number of values in the dataset.\\n\\nExample:\\nConsider the dataset: [4, 8, 6, 5, 9]\\n\\nAdd up all the values:\\n\\n4 + 8 + 6 + 5 + 9 = 32\\nCount the number of values:\\n\\nThere are 5 values.\\nDivide the total sum by the number of values:\\n\\n32 divided by 5 equals 6.4\\nSo, the mean of the dataset [4, 8, 6, 5, 9] is 6.4.'"
      ]
     },
     "execution_count": 26,
     "metadata": {},
     "output_type": "execute_result"
    }
   ],
   "source": [
    "\"\"\"To find the simple mean of a dataset, you add up all the values and then divide that sum by the number of values in the dataset.\n",
    "\n",
    "Example:\n",
    "Consider the dataset: [4, 8, 6, 5, 9]\n",
    "\n",
    "Add up all the values:\n",
    "\n",
    "4 + 8 + 6 + 5 + 9 = 32\n",
    "Count the number of values:\n",
    "\n",
    "There are 5 values.\n",
    "Divide the total sum by the number of values:\n",
    "\n",
    "32 divided by 5 equals 6.4\n",
    "So, the mean of the dataset [4, 8, 6, 5, 9] is 6.4.\"\"\""
   ]
  },
  {
   "cell_type": "code",
   "execution_count": 27,
   "id": "903c18d7-4253-4120-895e-9a86eea505f4",
   "metadata": {},
   "outputs": [],
   "source": [
    "      #ANSWER:-12"
   ]
  },
  {
   "cell_type": "code",
   "execution_count": 28,
   "id": "6917b853-6897-448f-b916-41256ea60742",
   "metadata": {},
   "outputs": [
    {
     "data": {
      "text/plain": [
       "' for a normal distribution, the mean, median, and mode are the same and lie at the center of the distribution.\\n'"
      ]
     },
     "execution_count": 28,
     "metadata": {},
     "output_type": "execute_result"
    }
   ],
   "source": [
    "\"\"\" for a normal distribution, the mean, median, and mode are the same and lie at the center of the distribution.\n",
    "\"\"\""
   ]
  },
  {
   "cell_type": "code",
   "execution_count": 29,
   "id": "aaad5d76-fe1f-4381-a184-eab5e0ce3379",
   "metadata": {},
   "outputs": [],
   "source": [
    "       #ANSWER:-13"
   ]
  },
  {
   "cell_type": "code",
   "execution_count": 30,
   "id": "0341a91e-4dff-4ce6-a45b-9c55a0a2cae5",
   "metadata": {},
   "outputs": [
    {
     "data": {
      "text/plain": [
       "'covariance indicates direction but is scale-dependent, while correlation shows both strength and direction in a standardized way.'"
      ]
     },
     "execution_count": 30,
     "metadata": {},
     "output_type": "execute_result"
    }
   ],
   "source": [
    "\"\"\"covariance indicates direction but is scale-dependent, while correlation shows both strength and direction in a standardized way.\"\"\""
   ]
  },
  {
   "cell_type": "code",
   "execution_count": 31,
   "id": "3a72b42e-ab5c-4245-874c-b11428bbafc2",
   "metadata": {},
   "outputs": [],
   "source": [
    "        #ANSWER:-14"
   ]
  },
  {
   "cell_type": "code",
   "execution_count": 32,
   "id": "57945bf2-3684-4b9c-90a0-c82889e475f1",
   "metadata": {},
   "outputs": [
    {
     "name": "stdout",
     "output_type": "stream",
     "text": [
      "Without Outlier:\n",
      "Mean: 11.86\n",
      "Median: 12.00\n",
      "Standard Deviation: 1.25\n",
      "Range: 4\n",
      "\n",
      "With Outlier:\n",
      "Mean: 22.88\n",
      "Median: 12.00\n",
      "Standard Deviation: 29.17\n",
      "Range: 90\n"
     ]
    }
   ],
   "source": [
    "\"\"\"Outliers can significantly affect measures of central tendency (mean, median, mode) and measures of dispersion (range, variance, standard deviation). Here's a brief overview of their impacts:\n",
    "\n",
    "Mean: Outliers can skew the mean, making it higher or lower than the central value of the majority of data.\n",
    "Median: The median is less affected by outliers and remains a more robust measure of central tendency.\n",
    "Mode: Outliers can influence the mode if they are frequent enough, though less commonly.\n",
    "Range: Outliers can greatly expand the range by increasing the difference between the maximum and minimum values.\n",
    "Variance and Standard Deviation: Outliers increase variance and standard deviation because they increase the average squared deviation from the mean.\"\"\"\n",
    "\n",
    "\n",
    "############EXAMPLE----------\n",
    "\n",
    "\n",
    "\n",
    "import numpy as np\n",
    "\n",
    "# Dataset without outliers\n",
    "data = [10, 12, 11, 13, 12, 14, 11]\n",
    "\n",
    "# Dataset with an outlier\n",
    "data_with_outlier = [10, 12, 11, 13, 12, 14, 11, 100]\n",
    "\n",
    "# Calculate measures for dataset without outliers\n",
    "mean_without = np.mean(data)\n",
    "median_without = np.median(data)\n",
    "std_dev_without = np.std(data, ddof=0)\n",
    "range_without = np.max(data) - np.min(data)\n",
    "\n",
    "# Calculate measures for dataset with an outlier\n",
    "mean_with = np.mean(data_with_outlier)\n",
    "median_with = np.median(data_with_outlier)\n",
    "std_dev_with = np.std(data_with_outlier, ddof=0)\n",
    "range_with = np.max(data_with_outlier) - np.min(data_with_outlier)\n",
    "\n",
    "# Print results\n",
    "print(\"Without Outlier:\")\n",
    "print(f\"Mean: {mean_without:.2f}\")\n",
    "print(f\"Median: {median_without:.2f}\")\n",
    "print(f\"Standard Deviation: {std_dev_without:.2f}\")\n",
    "print(f\"Range: {range_without}\")\n",
    "\n",
    "print(\"\\nWith Outlier:\")\n",
    "print(f\"Mean: {mean_with:.2f}\")\n",
    "print(f\"Median: {median_with:.2f}\")\n",
    "print(f\"Standard Deviation: {std_dev_with:.2f}\")\n",
    "print(f\"Range: {range_with}\")\n"
   ]
  },
  {
   "cell_type": "code",
   "execution_count": null,
   "id": "9767c988-a8a7-4920-b7a0-25d037274a73",
   "metadata": {},
   "outputs": [],
   "source": []
  }
 ],
 "metadata": {
  "kernelspec": {
   "display_name": "Python 3 (ipykernel)",
   "language": "python",
   "name": "python3"
  },
  "language_info": {
   "codemirror_mode": {
    "name": "ipython",
    "version": 3
   },
   "file_extension": ".py",
   "mimetype": "text/x-python",
   "name": "python",
   "nbconvert_exporter": "python",
   "pygments_lexer": "ipython3",
   "version": "3.10.8"
  }
 },
 "nbformat": 4,
 "nbformat_minor": 5
}
